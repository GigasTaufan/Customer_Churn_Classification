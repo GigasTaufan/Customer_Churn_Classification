{
 "cells": [
  {
   "cell_type": "markdown",
   "metadata": {},
   "source": [
    "The data is about customers subscribed to a service at a company. We can do some analysis with the data and use it to predicting **customer churn**. The dataset contains some features like:\n",
    "- RowNumber: Number of rows\n",
    "- CustomerId: The unique ID for each customer\n",
    "- Surname: Customer surname\n",
    "- CreditScore: The credit score of the customer\n",
    "- Geography: The country where customer live\n",
    "- Gender: The gender of the customer\n",
    "- Age:  The age of customers\n",
    "- Tenure: The number of months that a customers subscribed the service\n",
    "- Balance: The balance that customer has\n",
    "- NumOfProducts: How many products that customer use\n",
    "- HasCrCard: The customers has a credit card or not\n",
    "- IsActiveMember: The customer is an active member of the company or not\n",
    "- EstimatedSalary: The estimated of customer salary\n",
    "- Exited: 0 mean Not Churn and 1 mean Churn"
   ]
  },
  {
   "cell_type": "markdown",
   "metadata": {},
   "source": [
    "## Import Libraries"
   ]
  },
  {
   "cell_type": "code",
   "execution_count": 1,
   "metadata": {},
   "outputs": [],
   "source": [
    "import pandas as pd\n",
    "import numpy as np\n",
    "import matplotlib.pyplot as plt\n",
    "import seaborn as sns\n",
    "%matplotlib inline\n",
    "sns.set(style='darkgrid')\n",
    "import warnings\n",
    "warnings.filterwarnings('ignore')"
   ]
  },
  {
   "cell_type": "code",
   "execution_count": null,
   "metadata": {},
   "outputs": [],
   "source": []
  }
 ],
 "metadata": {
  "kernelspec": {
   "display_name": "Python 3",
   "language": "python",
   "name": "python3"
  },
  "language_info": {
   "codemirror_mode": {
    "name": "ipython",
    "version": 3
   },
   "file_extension": ".py",
   "mimetype": "text/x-python",
   "name": "python",
   "nbconvert_exporter": "python",
   "pygments_lexer": "ipython3",
   "version": "3.8.5"
  }
 },
 "nbformat": 4,
 "nbformat_minor": 4
}
